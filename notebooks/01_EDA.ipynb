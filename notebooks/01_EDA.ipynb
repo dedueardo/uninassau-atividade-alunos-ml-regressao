{
 "cells": [
  {
   "cell_type": "markdown",
   "id": "3e744418",
   "metadata": {},
   "source": [
    "1° Etapa: Importação\n",
    "\n",
    "pandas:\n",
    "\n",
    "Seu Excel inteligente em Python. Organiza dados em tabelas, faz limpeza, filtros e transformações.\n",
    "\n",
    "numpy: \n",
    "\n",
    "A calculadora que trabalha com números de forma rápida, especialmente listas e matrizes.\n",
    "\n",
    "matplotlib:\n",
    "\n",
    "O pincel clássico para criar gráficos básicos.\n",
    "\n",
    "seaborn:\n",
    "\n",
    "O designer de gráficos, faz visualizações e estatísticas.\n",
    "\n",
    "plotly:\n",
    "\n",
    "Gráficos interativos que você pode clicar e explorar.\n",
    "\n",
    "scikit-learn:\n",
    "\n",
    "A caixa de ferramentas para ml, tem tudo que você precisa para modelos"
   ]
  },
  {
   "cell_type": "code",
   "execution_count": null,
   "id": "d63db240",
   "metadata": {},
   "outputs": [
    {
     "name": "stdout",
     "output_type": "stream",
     "text": [
      "Tudo certo professor!\n",
      "\n"
     ]
    }
   ],
   "source": [
    "import pandas as pd\n",
    "import numpy as np \n",
    "import matplotlib.pyplot as plt\n",
    "import seaborn as sns\n",
    "from sklearn import datasets, model_selection, metrics\n",
    "\n",
    "print(\"Tudo certo professor!\\n\")"
   ]
  },
  {
   "cell_type": "markdown",
   "id": "9cf9a98b",
   "metadata": {},
   "source": [
    "2° etapa: exibição\n",
    "\n",
    "Primeiro importaremos o dataset utilizando o df = pd.read_csv\n",
    "\n",
    "após isso, iremos exibir as linhas do dataset utilizando:\n",
    "\n",
    "df.head # Primeiras linhas\n",
    "\n",
    "df.tail # Últimas linhas\n",
    "\n",
    "df.shape # Dimensões\n",
    "\n",
    "df.dtypes # Tipos de dados\n",
    "\n",
    "df.describe # Estatísticas descritivas"
   ]
  },
  {
   "cell_type": "code",
   "execution_count": null,
   "id": "9a98f207",
   "metadata": {},
   "outputs": [
    {
     "name": "stdout",
     "output_type": "stream",
     "text": [
      "   video_id  duration_minutes  title_length  description_length  tags_count has_thumbnail_custom video_quality    category   language has_subtitles  channel_subscribers  channel_age_months  previous_videos_count  avg_upload_frequency_days  comments_count  likes_count  shares_count  playlist_adds promoted upload_time upload_day  total_views\n",
      "0  VID00197                 3            53               589.0        34.0                  Sim          720p     Fitness  Português           Não                  474                 NaN                    406                          9          2804.0         5269           NaN            624      Não       Tarde      Sexta      2219779\n",
      "1  VID00987                60            95                 NaN        17.0                  Não          720p   Culinária  Português           Não               899904                 NaN                     25                         14          9634.0         9448        1679.0            894      Sim       Tarde      Sexta       719904\n",
      "2  VID01091                47            35               168.0        20.0                  Não         1080p      Gaming   Espanhol           Não               761732                59.0                     59                          1          6943.0        34028         542.0            540      Não       Manhã    Seg-Qui      1420456\n",
      "3  VID00388                 8            12               260.0         4.0                  Sim         1080p  Tecnologia  Português           Sim               154261                84.0                     93                         10          9427.0        42695        3096.0            188      Não   Madrugada     Sábado       329746\n",
      "4  VID02222                56            94               648.0        48.0                  Não          720p       Vlogs   Espanhol           Não               843352                 6.0                    205                         13          2993.0        40761         311.0            957      Não       Manhã    Domingo       984985\n",
      "      video_id  duration_minutes  title_length  description_length  tags_count has_thumbnail_custom video_quality   category   language has_subtitles  channel_subscribers  channel_age_months  previous_videos_count  avg_upload_frequency_days  comments_count  likes_count  shares_count  playlist_adds promoted upload_time upload_day  total_views\n",
      "2515  VID01639                49            19               330.0        19.0                  Sim         1080p     Música  Português           Sim               193817                57.0                     87                          6          9487.0        18978         535.0            396      Não       Manhã      Sexta       391825\n",
      "2516  VID01096                46            15               775.0        26.0                  Sim            4K     Gaming  Português           Não               984508               107.0                    219                         30          1752.0        25656        4239.0            318      Não       Manhã      Sexta      1411440\n",
      "2517  VID01131                60            78               983.0        10.0                  Sim          720p   Educação  Português           Não               606078               107.0                    368                         13          4287.0        15094        1525.0            759      Não       Tarde    Domingo       419713\n",
      "2518  VID01295                45           100               475.0        38.0                  Sim         1080p  Culinária  Português           Sim               894557               116.0                    481                          7          4648.0        11674        2461.0            514      Não       Manhã      Sexta       679891\n",
      "2519  VID00861                54            51               376.0        20.0                  Não          480p   Educação  Português           Não               982105               105.0                    306                         11          5700.0        13957        4635.0             75      Não   Madrugada    Domingo       601691\n",
      "(2520, 22)\n",
      "video_id                      object\n",
      "duration_minutes               int64\n",
      "title_length                   int64\n",
      "description_length           float64\n",
      "tags_count                   float64\n",
      "has_thumbnail_custom          object\n",
      "video_quality                 object\n",
      "category                      object\n",
      "language                      object\n",
      "has_subtitles                 object\n",
      "channel_subscribers            int64\n",
      "channel_age_months           float64\n",
      "previous_videos_count          int64\n",
      "avg_upload_frequency_days      int64\n",
      "comments_count               float64\n",
      "likes_count                    int64\n",
      "shares_count                 float64\n",
      "playlist_adds                  int64\n",
      "promoted                      object\n",
      "upload_time                   object\n",
      "upload_day                    object\n",
      "total_views                    int64\n",
      "dtype: object\n",
      "\n",
      "Estatísticas descritivas (numéricas):\n",
      "                            count           mean            std      min  \\\n",
      "duration_minutes           2520.0      31.942460      18.598756     -7.0   \n",
      "title_length               2520.0      54.436111      26.116815     10.0   \n",
      "description_length         2480.0     536.062097     275.770823     50.0   \n",
      "tags_count                 2480.0      24.715726      14.709814      0.0   \n",
      "channel_subscribers        2520.0  511947.861508  387473.448521   -844.0   \n",
      "channel_age_months         2480.0      59.449194      34.950178      1.0   \n",
      "previous_videos_count      2520.0     247.055952     146.125772      0.0   \n",
      "avg_upload_frequency_days  2520.0      15.711905       8.723234      1.0   \n",
      "comments_count             2480.0    4888.475000    2851.615977      6.0   \n",
      "likes_count                2520.0   25141.834127   14640.476699   -259.0   \n",
      "shares_count               2480.0    2487.693952    1433.503747      0.0   \n",
      "playlist_adds              2520.0     499.431746     293.222464      0.0   \n",
      "total_views                2520.0  860478.041270  701959.382492  85222.0   \n",
      "\n",
      "                                 25%       50%         75%        max  \n",
      "duration_minutes               17.00      32.0       46.00      174.0  \n",
      "title_length                   31.75      54.0       77.00      100.0  \n",
      "description_length            295.00     535.0      775.00     1000.0  \n",
      "tags_count                     12.00      24.0       37.25       50.0  \n",
      "channel_subscribers        235690.50  499506.0   755842.25  4928963.0  \n",
      "channel_age_months             30.00      59.0       89.00      120.0  \n",
      "previous_videos_count         117.00     249.5      370.00      500.0  \n",
      "avg_upload_frequency_days       8.00      16.0       23.00       30.0  \n",
      "comments_count               2502.00    4845.0     7317.75     9998.0  \n",
      "likes_count                 12304.25   25031.5    37916.50    49985.0  \n",
      "shares_count                 1277.00    2469.5     3736.25     4998.0  \n",
      "playlist_adds                 238.00     500.0      755.00     1000.0  \n",
      "total_views                405429.75  646043.0  1084819.50  4963004.0  \n"
     ]
    }
   ],
   "source": [
    "df = pd.read_csv('/home/ardodue/Documentos/PROJETOS/durval/machine-learning/uninassau-atividade-alunos-ml-regressao/data/datasets/youtube_views.csv')\n",
    "\n",
    "print(df.head().to_string())\n",
    "\n",
    "print(df.tail().to_string())\n",
    "\n",
    "print(df.shape)\n",
    "\n",
    "print(df.dtypes)\n",
    "\n",
    "print(\"\\nEstatísticas descritivas (numéricas):\")\n",
    "print(df.describe().T)"
   ]
  },
  {
   "cell_type": "markdown",
   "id": "064292fe",
   "metadata": {},
   "source": [
    "# Nas primeiras linhas, observamos vídeos de categorias variadas como Fitness, Culinária, Gaming, com métricas como duração, comprimento de título, visualizações totais, etc."
   ]
  },
  {
   "cell_type": "markdown",
   "id": "22c22c3c",
   "metadata": {},
   "source": [
    "3° etapa: visão geral\n",
    "\n",
    "Separamos variáveis numéricas e categóricas usando select_dtypes(include='number') e select_dtypes(include='object'). A variável alvo é total_views. Variável de identificação: video_id. Features são as demais colunas."
   ]
  },
  {
   "cell_type": "code",
   "execution_count": 28,
   "id": "353a7f71",
   "metadata": {},
   "outputs": [
    {
     "name": "stdout",
     "output_type": "stream",
     "text": [
      "Numéricas: ['duration_minutes', 'title_length', 'description_length', 'tags_count', 'channel_subscribers', 'channel_age_months', 'previous_videos_count', 'avg_upload_frequency_days', 'comments_count', 'likes_count', 'shares_count', 'playlist_adds', 'total_views']\n",
      "Categóricas: ['video_id', 'has_thumbnail_custom', 'video_quality', 'category', 'language', 'has_subtitles', 'promoted', 'upload_time', 'upload_day']\n"
     ]
    }
   ],
   "source": [
    "numericas = df.select_dtypes(include=['int64', 'float64']).columns.tolist()\n",
    "categoricas = df.select_dtypes(include='object').columns.tolist()\n",
    "\n",
    "print(\"Numéricas:\", numericas)\n",
    "print(\"Categóricas:\", categoricas)"
   ]
  },
  {
   "cell_type": "markdown",
   "id": "91bf4c1e",
   "metadata": {},
   "source": [
    "# Variável alvo: total_views. Features: duration_minutes, title_length, description_length, tags_count, channel_subscribers, channel_age_months, previous_videos_count, avg_upload_frequency_days, comments_count, likes_count, shares_count, playlist_adds, video_id (ID), has_thumbnail_custom, video_quality, category, language, has_subtitles, promoted, upload_time, upload_day."
   ]
  }
 ],
 "metadata": {
  "kernelspec": {
   "display_name": "venv",
   "language": "python",
   "name": "python3"
  },
  "language_info": {
   "codemirror_mode": {
    "name": "ipython",
    "version": 3
   },
   "file_extension": ".py",
   "mimetype": "text/x-python",
   "name": "python",
   "nbconvert_exporter": "python",
   "pygments_lexer": "ipython3",
   "version": "3.13.7"
  }
 },
 "nbformat": 4,
 "nbformat_minor": 5
}
